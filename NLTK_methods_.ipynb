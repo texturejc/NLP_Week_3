{
 "cells": [
  {
   "cell_type": "markdown",
   "id": "d2dbad3a-5a7d-4762-9e74-832c3dc52f3b",
   "metadata": {},
   "source": [
    "# Some core operations using `NLTK`\n",
    "\n",
    "![](NLTK_logo.png)\n",
    "\n",
    "`NLTK`is one of the oldest NLP libraries. Though more modern libraries like `spaCy` are better choices for applications using language models and machine learning, `NLTK` nevertheless provides many functions that are not available elsewhere. It is also exceptionally well integrated with a variety of corpora that cannot be found elsewhere."
   ]
  },
  {
   "cell_type": "code",
   "execution_count": null,
   "id": "c68c90e1-fb46-42f5-89f6-685bd48fb7ee",
   "metadata": {},
   "outputs": [],
   "source": [
    "!pip install networkx\n",
    "import nltk\n",
    "#nltk.download('brown')\n",
    "nltk.download('wordnet')\n",
    "from nltk.corpus import brown\n",
    "from nltk.corpus import wordnet as wn\n",
    "import pandas as pd\n",
    "import networkx as nx\n",
    "from nltk.metrics import edit_distance\n",
    "from nltk.metrics import jaccard_distance\n",
    "nltk.download('omw-1.4')\n",
    "import seaborn as sns\n",
    "sns.set()"
   ]
  },
  {
   "cell_type": "markdown",
   "id": "dc9e0fb7-6aa6-4fc0-9319-c8da2a76532e",
   "metadata": {},
   "source": [
    "## Categorising words using a `WordNet`\n",
    "\n",
    "`WordNet` is a manually annotated database of words that have been classified into categories by professional linguists. It is included as part of `NLTK`, and is very valuable when it comes to understanding the semantic relationships a word has with another word. These include:\n",
    "\n",
    "* Hypernyms: A word is a hypernym of another word when it denotes a more general category to which the first word belongs. `Colour` is a hypernym of `blue`.\n",
    "* Hyponyms: A word is a hyponym of another word when it denotes a more specific category than that to which the first word belongs. `Spoon` is a hyonym of `cutlery`.\n",
    "* Antonyms: Two words are antonyms when they have the opposite meaning to each other. `Good` is an antonym to `evil`.\n",
    "* Meronyms: A meronym is when part an object used to denote a whole. `Wheels` are a meronym for `car`.\n",
    "* Synsets: Two words belong to the same synset when they share the same meaning. `Puppy` and `dog` belong to the same synset."
   ]
  },
  {
   "cell_type": "markdown",
   "id": "778ffe05-ec2c-4c5a-93e5-661ac8b43328",
   "metadata": {},
   "source": [
    "### Synsets"
   ]
  },
  {
   "cell_type": "code",
   "execution_count": null,
   "id": "95d77989-d486-4848-8a51-6516c94b3077",
   "metadata": {},
   "outputs": [],
   "source": [
    "# Get the synsets of the word \"bank\"\n",
    "bank = wn.synsets('bank')\n",
    "bank"
   ]
  },
  {
   "cell_type": "code",
   "execution_count": null,
   "id": "2f6893f3-0a34-468e-a768-e0cb0181753f",
   "metadata": {},
   "outputs": [],
   "source": [
    "# Get some synonyms for the second synset of bank––bank as a financial insititution\n",
    "bank[1].lemma_names()"
   ]
  },
  {
   "cell_type": "code",
   "execution_count": null,
   "id": "242e33b7-2093-49ca-9090-40e2293fbf4f",
   "metadata": {},
   "outputs": [],
   "source": [
    "# Get a list of all the synonyms in WordNet for all the synsets of bank:\n",
    "\n",
    "terms = []\n",
    "\n",
    "for i in bank:\n",
    "    terms.append(i.lemma_names())\n",
    "\n",
    "words = list(set([word for sublist in terms for word in sublist]))\n",
    "\n",
    "words"
   ]
  },
  {
   "cell_type": "markdown",
   "id": "5c058dd8-4184-4566-902b-e431ffd302ed",
   "metadata": {},
   "source": [
    "### Antonyms"
   ]
  },
  {
   "cell_type": "code",
   "execution_count": null,
   "id": "f5f0fdd3-6a0f-41bd-9b42-94ae66c1097d",
   "metadata": {},
   "outputs": [],
   "source": [
    "# Get the antonyms of the last synset of bank (i.e. to bank trust in someone). \n",
    "# Note that most words have no antonyms\n",
    "\n",
    "bank[-1].lemmas()[0].antonyms()"
   ]
  },
  {
   "cell_type": "markdown",
   "id": "68319e9f-b2fd-4ff3-8803-b4ad9bb69ba9",
   "metadata": {},
   "source": [
    "### Hypernyms"
   ]
  },
  {
   "cell_type": "code",
   "execution_count": null,
   "id": "a5c56a79-a1e7-458f-ab8a-0f3b7bc0dee6",
   "metadata": {},
   "outputs": [],
   "source": [
    "# Get the hypernyms of the first synset of bank (i.e. commercial enterprise that deals with money)\n",
    "bank[1].hypernyms()"
   ]
  },
  {
   "cell_type": "code",
   "execution_count": null,
   "id": "6949ece3-dd42-475f-8a68-97d10dd78131",
   "metadata": {},
   "outputs": [],
   "source": [
    "# Get all the hypernyms of all the synsets of the word school\n",
    "\n",
    "hyp = []\n",
    "\n",
    "for i in wn.synsets('school'):\n",
    "    hyp.append(i.hypernyms())\n",
    "\n",
    "hyp"
   ]
  },
  {
   "cell_type": "code",
   "execution_count": null,
   "id": "fcd20944-933b-4ee9-a849-45337684635b",
   "metadata": {},
   "outputs": [],
   "source": [
    "# Graphing hypernym relationships. Pass the synset to the function\n",
    "\n",
    "def closure_graph(synset):\n",
    "    fn = lambda s: s.hypernyms()\n",
    "    seen = set()\n",
    "    graph = nx.DiGraph()\n",
    "    \n",
    "    def recurse(s):\n",
    "        if not s in seen:\n",
    "            seen.add(s)\n",
    "            graph.add_node(s.name())\n",
    "            for s1 in fn(s):\n",
    "                graph.add_node(s1.name())\n",
    "                graph.add_edge(s.name(), s1.name())\n",
    "                recurse(s1)\n",
    "                \n",
    "    recurse(synset)\n",
    "    nx.draw(graph, with_labels=True)"
   ]
  },
  {
   "cell_type": "code",
   "execution_count": null,
   "id": "fbf99358-ecdf-4184-8d22-eb8aa98c55fb",
   "metadata": {},
   "outputs": [],
   "source": [
    "school = wn.synsets('school')\n",
    "closure_graph(school[0])"
   ]
  },
  {
   "cell_type": "markdown",
   "id": "7a07d645-af9f-40ee-abde-2b267b6f86ef",
   "metadata": {},
   "source": [
    "### Path similarity\n",
    "\n",
    "Path similarity is a measure of how ontologically close two synsets are. Specifically, it measures the number of steps required to go from one synset up to the first common hypernym and down again to the next synset. It is defined by the following formula, which means it's confined between 0 and 1.\n",
    "\n",
    "$$\\text{Path Similarity} = \\frac{1}{\\text{Shortest Path Length}+1}$$\n",
    "\n",
    "A value of $1$ means that two synsets are identical; a value of $0$ means they are maximally dissimilar."
   ]
  },
  {
   "cell_type": "code",
   "execution_count": null,
   "id": "fd9e3b19-65b0-48de-959e-4da66186ee86",
   "metadata": {},
   "outputs": [],
   "source": [
    "# Let's create some examples\n",
    "\n",
    "words = ['wolf', 'lollipop', 'dinosaur', 'dog', 'knife', 'tiger', 'cat', 'shovel', 'kitten', 'disease', 'hammer', 'fork']\n",
    "\n",
    "all_synsets = [wn.synsets(i) for i in words]\n",
    "\n",
    "\n",
    "path_s = [[]for i in range(len(all_synsets))]\n",
    "\n",
    "for i in range(len(all_synsets)):\n",
    "    for j in all_synsets:\n",
    "        path_s[i].append(all_synsets[i][0].path_similarity(j[0]))\n",
    "\n",
    "paths_df = pd.DataFrame(path_s, columns = words, index = words)"
   ]
  },
  {
   "cell_type": "code",
   "execution_count": null,
   "id": "f6af85ea-3da0-4869-b0a5-006815ba09e3",
   "metadata": {},
   "outputs": [],
   "source": [
    "paths_df"
   ]
  },
  {
   "cell_type": "code",
   "execution_count": null,
   "id": "ed980404-232d-42e1-bf8b-e73bc7281267",
   "metadata": {},
   "outputs": [],
   "source": [
    "sns.heatmap(paths_df)"
   ]
  },
  {
   "cell_type": "code",
   "execution_count": null,
   "id": "1bdf741f-ff9d-4015-ac9c-0ffedf8fd116",
   "metadata": {},
   "outputs": [],
   "source": []
  }
 ],
 "metadata": {
  "kernelspec": {
   "display_name": "Python 3 (ipykernel)",
   "language": "python",
   "name": "python3"
  },
  "language_info": {
   "codemirror_mode": {
    "name": "ipython",
    "version": 3
   },
   "file_extension": ".py",
   "mimetype": "text/x-python",
   "name": "python",
   "nbconvert_exporter": "python",
   "pygments_lexer": "ipython3",
   "version": "3.9.18"
  }
 },
 "nbformat": 4,
 "nbformat_minor": 5
}
